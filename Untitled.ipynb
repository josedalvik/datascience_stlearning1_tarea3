{
 "cells": [
  {
   "cell_type": "code",
   "execution_count": 12,
   "id": "d99234d2",
   "metadata": {},
   "outputs": [
    {
     "name": "stdout",
     "output_type": "stream",
     "text": [
      "x.shape: (2, 3)\n",
      "x_operacion_vectorizada.shape: (2, 1, 3)\n",
      "y.shape: (4, 3)\n",
      "distancia: tf.Tensor(\n",
      "[[ 24.  54.  84. 114.]\n",
      " [ 15.  45.  75. 105.]], shape=(2, 4), dtype=float64)\n"
     ]
    }
   ],
   "source": [
    "# Importando tensorflow\n",
    "import tensorflow as tf\n",
    " \n",
    "# Inicializando variables\n",
    "x = tf.constant([[1, 2, 3], [4, 5, 6]], dtype=tf.dtypes.float64)\n",
    "x_operacion_vectorizada = tf.expand_dims(x, 1)\n",
    "y = tf.constant([[10, 10, 10], [20, 20, 20], [30, 30, 30], [40, 40, 40]], dtype=tf.dtypes.float64)\n",
    " \n",
    "# Imprimiendo shapes\n",
    "print('x.shape:', x.shape)\n",
    "print('x_operacion_vectorizada.shape:', x_operacion_vectorizada.shape)\n",
    "print('y.shape:', y.shape)\n",
    " \n",
    "# Cálculando distancia\n",
    "resta = tf.subtract(y, x_operacion_vectorizada)\n",
    "cuadrado = tf.math.square( resta, name=\"cuadrado\" ) \n",
    "raiz = tf.math.sqrt( cuadrado, name=\"raiz\" )\n",
    "distancia = tf.reduce_sum( raiz, name=\"distancia\", axis=2)\n",
    "print(\"distancia:\", distancia)"
   ]
  }
 ],
 "metadata": {
  "kernelspec": {
   "display_name": "Python 3 (ipykernel)",
   "language": "python",
   "name": "python3"
  },
  "language_info": {
   "codemirror_mode": {
    "name": "ipython",
    "version": 3
   },
   "file_extension": ".py",
   "mimetype": "text/x-python",
   "name": "python",
   "nbconvert_exporter": "python",
   "pygments_lexer": "ipython3",
   "version": "3.9.12"
  }
 },
 "nbformat": 4,
 "nbformat_minor": 5
}
